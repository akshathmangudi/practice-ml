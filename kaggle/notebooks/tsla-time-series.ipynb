{
 "metadata": {
  "kernelspec": {
   "language": "python",
   "display_name": "Python 3",
   "name": "python3"
  },
  "language_info": {
   "pygments_lexer": "ipython3",
   "nbconvert_exporter": "python",
   "version": "3.6.4",
   "file_extension": ".py",
   "codemirror_mode": {
    "name": "ipython",
    "version": 3
   },
   "name": "python",
   "mimetype": "text/x-python"
  }
 },
 "nbformat_minor": 4,
 "nbformat": 4,
 "cells": [
  {
   "cell_type": "markdown",
   "source": [
    "## TSLA Time Series Analysis\n",
    "\n",
    "In this notebook, we will explore the TSLA stock data, where we will perform a series of analyses to identify the correlation and the moving average of the stock. Tesla is one of the most volatile stock indexes and time series analysis is very crucial for algo trading as the next step after analysis of data deals with applying a machine learning algorithm that predicts the future of the index."
   ],
   "metadata": {}
  },
  {
   "cell_type": "markdown",
   "source": [
    "### Step 1: Importing the necessary modules\n",
    "\n",
    "We will first be playing around with the data and we will quickly get into analysis."
   ],
   "metadata": {}
  },
  {
   "cell_type": "code",
   "source": [
    "import numpy as np # For pandas manipulation\n",
    "import pandas as pd # For CSV I/O\n",
    "import seaborn as sns # For data visualization\n",
    "import matplotlib.pyplot as plt # For data visualization as well\n",
    "\n",
    "plt.style.use('dark_background')"
   ],
   "metadata": {
    "execution": {
     "iopub.status.busy": "2023-09-25T18:20:09.289806Z",
     "iopub.execute_input": "2023-09-25T18:20:09.290647Z",
     "iopub.status.idle": "2023-09-25T18:20:10.441085Z",
     "shell.execute_reply.started": "2023-09-25T18:20:09.290585Z",
     "shell.execute_reply": "2023-09-25T18:20:10.439300Z"
    },
    "trusted": true
   },
   "execution_count": null,
   "outputs": []
  },
  {
   "cell_type": "code",
   "source": [
    "df = pd.read_csv(\"/kaggle/input/tesla-stock-data/tesla_data.csv\")\n",
    "df.head()"
   ],
   "metadata": {
    "execution": {
     "iopub.status.busy": "2023-09-25T18:20:10.443198Z",
     "iopub.execute_input": "2023-09-25T18:20:10.443839Z",
     "iopub.status.idle": "2023-09-25T18:20:10.494806Z",
     "shell.execute_reply.started": "2023-09-25T18:20:10.443799Z",
     "shell.execute_reply": "2023-09-25T18:20:10.493613Z"
    },
    "trusted": true
   },
   "execution_count": null,
   "outputs": []
  },
  {
   "cell_type": "markdown",
   "source": [
    "### Step 2: Analysis\n",
    "\n",
    "We will be converting the 'Date' to a Timestamp data type as we can use that column during our analysis."
   ],
   "metadata": {}
  },
  {
   "cell_type": "code",
   "source": [
    "df.isna().sum()\n",
    "# df.info()\n",
    "df['Date'] = pd.to_datetime(df['Date'])\n",
    "\n",
    "df['Timestamp'] = (df['Date'] - pd.Timestamp(\"1970-01-01\")) // pd.Timedelta('1s')"
   ],
   "metadata": {
    "execution": {
     "iopub.status.busy": "2023-09-25T18:20:10.497053Z",
     "iopub.execute_input": "2023-09-25T18:20:10.497858Z",
     "iopub.status.idle": "2023-09-25T18:20:10.513501Z",
     "shell.execute_reply.started": "2023-09-25T18:20:10.497810Z",
     "shell.execute_reply": "2023-09-25T18:20:10.512067Z"
    },
    "trusted": true
   },
   "execution_count": null,
   "outputs": []
  },
  {
   "cell_type": "code",
   "source": [
    "corr = df.corr()\n",
    "sns.heatmap(corr, annot=True, cmap=\"crest\", fmt=\".2f\")\n",
    "plt.show()"
   ],
   "metadata": {
    "execution": {
     "iopub.status.busy": "2023-09-25T18:20:10.517036Z",
     "iopub.execute_input": "2023-09-25T18:20:10.517546Z",
     "iopub.status.idle": "2023-09-25T18:20:11.318160Z",
     "shell.execute_reply.started": "2023-09-25T18:20:10.517491Z",
     "shell.execute_reply": "2023-09-25T18:20:11.316904Z"
    },
    "trusted": true
   },
   "execution_count": null,
   "outputs": []
  },
  {
   "cell_type": "markdown",
   "source": [
    "As you can see above, between Open, High, Low, Close and Adj Close, there's a 100% correlation between each and every single one of those dependent variables. Each variable described above is strongly correlated with the other 4 variables. This will be very useful when we will use this for model training. "
   ],
   "metadata": {}
  },
  {
   "cell_type": "code",
   "source": [
    "window = 60 \n",
    "df['moving_avg'] = df['Close'].rolling(window=window).mean()\n",
    "plt.figure(figsize=(18, 6))\n",
    "plt.plot(df['Timestamp'], df['Close'], label='Close Price', color='g')\n",
    "plt.plot(df['Timestamp'], df['moving_avg'], label=f'{window}-Day Moving Average', color='r')\n",
    "plt.title(f'Close Price and {window}-Day Moving Average')\n",
    "plt.xlabel('Timestamp')\n",
    "plt.ylabel('Price')\n",
    "plt.xticks(rotation=45)\n",
    "plt.legend()\n",
    "plt.tight_layout()\n",
    "plt.show()"
   ],
   "metadata": {
    "execution": {
     "iopub.status.busy": "2023-09-25T18:20:11.319880Z",
     "iopub.execute_input": "2023-09-25T18:20:11.321309Z",
     "iopub.status.idle": "2023-09-25T18:20:11.787839Z",
     "shell.execute_reply.started": "2023-09-25T18:20:11.321258Z",
     "shell.execute_reply": "2023-09-25T18:20:11.786503Z"
    },
    "trusted": true
   },
   "execution_count": null,
   "outputs": []
  },
  {
   "cell_type": "markdown",
   "source": [
    "We have created a moving average of a time stamp of 60 days, and we are using that against the closing price. As noticed, the moving average does not do very well against the high volatlity of the index.  "
   ],
   "metadata": {}
  },
  {
   "cell_type": "code",
   "source": [
    "plt.figure(figsize=(16, 8))\n",
    "plt.plot(df['Timestamp'], df['Close'], marker='o', linestyle='-', color='g')\n",
    "plt.title('Time Series of Closing Prices')\n",
    "plt.xlabel('Timestamp')\n",
    "plt.ylabel('Closing Price')\n",
    "plt.xticks(rotation=45)\n",
    "plt.show()"
   ],
   "metadata": {
    "execution": {
     "iopub.status.busy": "2023-09-25T18:20:11.790116Z",
     "iopub.execute_input": "2023-09-25T18:20:11.790983Z",
     "iopub.status.idle": "2023-09-25T18:20:12.151274Z",
     "shell.execute_reply.started": "2023-09-25T18:20:11.790927Z",
     "shell.execute_reply": "2023-09-25T18:20:12.149715Z"
    },
    "trusted": true
   },
   "execution_count": null,
   "outputs": []
  },
  {
   "cell_type": "markdown",
   "source": [
    "In order to use some of the more sophisticated charts, such as a candlestick. External libraries must be used. plotly is one of them and we will be using that to implement a candlestick chart."
   ],
   "metadata": {}
  },
  {
   "cell_type": "code",
   "source": [
    "!pip install mplfinance"
   ],
   "metadata": {
    "execution": {
     "iopub.status.busy": "2023-09-25T18:20:12.153321Z",
     "iopub.execute_input": "2023-09-25T18:20:12.154453Z",
     "iopub.status.idle": "2023-09-25T18:20:27.209522Z",
     "shell.execute_reply.started": "2023-09-25T18:20:12.154405Z",
     "shell.execute_reply": "2023-09-25T18:20:27.208023Z"
    },
    "trusted": true
   },
   "execution_count": null,
   "outputs": []
  },
  {
   "cell_type": "code",
   "source": [
    "import plotly.graph_objects as go \n",
    "\n",
    "figure = go.Figure(data=[go.Candlestick(x=df['Date'], \n",
    "                                       open=df['Open'], \n",
    "                                       high=df['High'], \n",
    "                                       low=df['Low'], \n",
    "                                       close=df['Close'], \n",
    ")])\n",
    "\n",
    "figure.update_layout(xaxis_rangeslider_visible=False)\n",
    "figure.show()"
   ],
   "metadata": {
    "execution": {
     "iopub.status.busy": "2023-09-25T18:20:27.211963Z",
     "iopub.execute_input": "2023-09-25T18:20:27.212509Z",
     "iopub.status.idle": "2023-09-25T18:20:27.463072Z",
     "shell.execute_reply.started": "2023-09-25T18:20:27.212466Z",
     "shell.execute_reply": "2023-09-25T18:20:27.461614Z"
    },
    "trusted": true
   },
   "execution_count": null,
   "outputs": []
  },
  {
   "cell_type": "markdown",
   "source": [
    "You can see information inside each candlestick which gives you more numerical data to work with. "
   ],
   "metadata": {}
  },
  {
   "cell_type": "code",
   "source": [
    "import plotly.express as px\n",
    "\n",
    "figure = px.line(df, x=\"Date\", y=\"Close\", title=\"TSL Closing Price over Time\")\n",
    "figure.update_xaxes(title_text='Date')\n",
    "figure.update_yaxes(title_text='Closing Prices')\n",
    "figure.show()"
   ],
   "metadata": {
    "execution": {
     "iopub.status.busy": "2023-09-25T18:20:27.465001Z",
     "iopub.execute_input": "2023-09-25T18:20:27.465620Z",
     "iopub.status.idle": "2023-09-25T18:20:28.448467Z",
     "shell.execute_reply.started": "2023-09-25T18:20:27.465587Z",
     "shell.execute_reply": "2023-09-25T18:20:28.447138Z"
    },
    "trusted": true
   },
   "execution_count": null,
   "outputs": []
  },
  {
   "cell_type": "markdown",
   "source": [
    "I was playing around with time series for fun, but there are plans for me to implement a LSTM model and perform a lot more analysis than I have done this time, in a future notebook. \n",
    "\n",
    "Notebook by Akshath Mangudi"
   ],
   "metadata": {}
  }
 ]
}
